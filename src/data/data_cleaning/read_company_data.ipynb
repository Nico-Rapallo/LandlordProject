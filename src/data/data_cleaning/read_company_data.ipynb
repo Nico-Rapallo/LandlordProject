{
 "cells": [
  {
   "cell_type": "code",
   "execution_count": null,
   "id": "9d935a30-85e5-4592-b6ed-73e8d034f466",
   "metadata": {},
   "outputs": [],
   "source": [
    "\n",
    "import pandas as pd\n",
    "import numpy as np\n",
    "\n",
    "from cleaning_helpers import clean_column, same_name_merge"
   ]
  },
  {
   "cell_type": "code",
   "execution_count": null,
   "id": "35d27ab1",
   "metadata": {},
   "outputs": [],
   "source": [
    "print(\"\"\"\n",
    "     ## Warning, data files used in this code not included in repository.\n",
    "     ## Company data files too large to push to github.\n",
    "    \"\"\")"
   ]
  },
  {
   "cell_type": "code",
   "execution_count": null,
   "id": "235cf82d-355b-43da-801d-e951375a78a1",
   "metadata": {},
   "outputs": [],
   "source": [
    "# # Import all company lists\n",
    "# extra_company_df = pd.read_csv('src/data/company_data/ExtraCompanies.csv', index_col=False)\n",
    "# va_company_data = pd.read_csv('src/data/company_data/company_data_virginia.csv', on_bad_lines='skip', index_col=False)\n",
    "# wburg_company_df = pd.read_csv('src/data/company_data/company_data_williamsburg.csv', index_col=False)\n",
    "# wburg_company_df1 = pd.read_csv('src/data/company_data/company_data_williamsburg_POA.csv', index_col=False)\n",
    "# # norfolk_company_df = pd.read_csv('src/data/company_data/company_data_norfolk.csv', index_col=False)\n",
    "# #richmond_company_df = pd.read_csv('src/data/company_data/company_data_richmond_POA.csv', index_col=False)\n",
    "# #herndon_company_df = pd.read_csv('src/data/company_data/company_data_herndon.csv', index_col=False)\n",
    "\n",
    "# # Concatenate and Clean data\n",
    "# company_df = pd.concat([extra_company_df,\n",
    "#                         va_company_data, \n",
    "#                         wburg_company_df, \n",
    "#                         wburg_company_df1\n",
    "#                         #norfolk_company_df, \n",
    "#                         #richmond_company_df, \n",
    "#                         #herndon_company_df, \n",
    "#                        ])\n",
    "# company_df.columns = ['CID', 'company_name', 'name_type', 'entity_type', 'series_lcc', 'company_address', 'RA_name', 'status']\n",
    "# company_df = company_df.drop(columns = ['name_type', 'entity_type', 'status', 'series_lcc'])\n",
    "# company_df = company_df.drop_duplicates(subset = ['CID'], keep='first').reset_index(drop=True)\n",
    "# # Save as CSV\n",
    "# company_df.to_csv('src/data/data_cleaning/essential_company_data.csv', index=False)"
   ]
  },
  {
   "cell_type": "code",
   "execution_count": null,
   "id": "4202db08-1d1a-4414-a4f9-46b8d5cd0401",
   "metadata": {},
   "outputs": [],
   "source": [
    "# Read rental_df\n",
    "rental_df = pd.read_csv('src/data/data_cleaning/compiled_df.csv', index_col=False)\n",
    "\n",
    "# Save Orginal Owner Names and Addresses for display\n",
    "rental_df['owner_name_display'] = rental_df['owner_name']\n",
    "rental_df['address_display'] = rental_df['address']\n",
    "\n",
    "# # Clean Owner Name and Address\n",
    "rental_df['owner_name'] = clean_column(rental_df, 'owner_name')\n",
    "rental_df['address'] = clean_column(rental_df, 'address')"
   ]
  },
  {
   "cell_type": "code",
   "execution_count": 4,
   "id": "ce78dc73-53cd-43fa-a72d-690ac4a19172",
   "metadata": {},
   "outputs": [],
   "source": [
    "# Get all properties which might be owned by a corporation\n",
    "companies = pd.DataFrame(\n",
    "    rental_df[(rental_df['owner_name'].str.contains('lc')) | \n",
    "    (rental_df['owner_name'].str.contains('inc')) | \n",
    "    (rental_df['owner_name'].str.contains('plc')) |\n",
    "    (rental_df['owner_name'].str.contains('corp'))|\n",
    "    (rental_df['owner_name'].str.contains('company'))]['owner_name'].value_counts()).reset_index()"
   ]
  },
  {
   "cell_type": "code",
   "execution_count": null,
   "id": "f9bd9399-8116-4f00-8927-0b4b7e76387a",
   "metadata": {},
   "outputs": [],
   "source": [
    "# Read cleaned all company csv\n",
    "company_df = pd.read_csv('src/data/data_cleaning/essential_company_data.csv', index_col=False)"
   ]
  },
  {
   "cell_type": "code",
   "execution_count": 6,
   "id": "b9fae049-5e06-4f8d-9cef-f27a9b9ead34",
   "metadata": {},
   "outputs": [],
   "source": [
    "# Clean company columns further\n",
    "company_df['company_name_display'] = company_df['company_name']\n",
    "company_df['company_name'] = clean_column(company_df, 'company_name')\n",
    "\n",
    "company_df['ind_name_display'] = company_df['RA_name']\n",
    "company_df['RA_name'] = clean_column(company_df, 'RA_name')"
   ]
  },
  {
   "cell_type": "code",
   "execution_count": 7,
   "id": "5bd5ded3-ad75-46dd-abb0-ca44b12a9e0d",
   "metadata": {},
   "outputs": [],
   "source": [
    "# Left Merge on \n",
    "merged = companies.merge(\n",
    "    company_df[['company_name','CID','RA_name', 'ind_name_display', 'company_address']],\n",
    "    left_on='owner_name',\n",
    "    right_on='company_name',\n",
    "    how='left'\n",
    ")\n",
    "\n",
    "# Then drop the extra company_name column and rename RA_name to ind_name\n",
    "companies_merged = merged.drop(columns=['company_name']).rename(columns={'RA_name':'ind_name'})"
   ]
  },
  {
   "cell_type": "code",
   "execution_count": 8,
   "id": "c87762c2-363a-4ec6-8e14-d064ef9f280b",
   "metadata": {},
   "outputs": [],
   "source": [
    "# Outer Merge individual owner data from company data back into original dataframe\n",
    "all_merged = pd.merge(rental_df, companies_merged, on = 'owner_name', how='outer')\n",
    "\n",
    "# Replace NAs with blank strings\n",
    "all_merged.loc[all_merged['ind_name'].isna(), 'ind_name'] = ''\n",
    "all_merged.loc[all_merged['ind_name'].isna(), 'ind_name_display'] = ''\n",
    "\n",
    "# Where blank string exists in ind_name, make owner_name ind_name\n",
    "all_merged.loc[all_merged['ind_name']=='', 'ind_name'] = all_merged.loc[all_merged['ind_name']=='', 'owner_name']\n",
    "all_merged.loc[all_merged['ind_name']=='', 'ind_name_display'] = all_merged.loc[all_merged['ind_name_display']=='', 'owner_name_display']\n",
    "\n",
    "\n",
    "# Abreviate Living Trust to lt so Levenshtein ratio is less annoying\n",
    "all_merged['ind_name'] = all_merged['ind_name'].str.replace('livingtrust', '_lt')\n",
    "all_merged['ind_name'] = all_merged['ind_name'].str.replace('familytrust', '_ft')\n",
    "all_merged['ind_name'] = all_merged['ind_name'].str.replace('revocabletrust', '_rt')\n",
    "all_merged['ind_name'] = all_merged['ind_name'].str.replace('limitedliabilitycompany', '_llc')"
   ]
  },
  {
   "cell_type": "code",
   "execution_count": 9,
   "id": "da576d66-3ab5-46bd-b639-c34158b1197c",
   "metadata": {},
   "outputs": [
    {
     "name": "stdout",
     "output_type": "stream",
     "text": [
      "jamesevaiden jamesandre\n"
     ]
    },
    {
     "name": "stdout",
     "output_type": "stream",
     "text": [
      " 0\n"
     ]
    },
    {
     "name": "stdout",
     "output_type": "stream",
     "text": [
      "zhaoqingzhang mingzhang\n"
     ]
    },
    {
     "name": "stdout",
     "output_type": "stream",
     "text": [
      " 0\n"
     ]
    },
    {
     "name": "stdout",
     "output_type": "stream",
     "text": [
      "joshuamdavid lamdavid\n"
     ]
    },
    {
     "name": "stdout",
     "output_type": "stream",
     "text": [
      " 0\n"
     ]
    },
    {
     "name": "stdout",
     "output_type": "stream",
     "text": [
      "colbytcumber colbycumber\n"
     ]
    },
    {
     "name": "stdout",
     "output_type": "stream",
     "text": [
      " 1\n"
     ]
    },
    {
     "name": "stdout",
     "output_type": "stream",
     "text": [
      "michaelfield michaellmills\n"
     ]
    },
    {
     "name": "stdout",
     "output_type": "stream",
     "text": [
      " 0\n"
     ]
    },
    {
     "name": "stdout",
     "output_type": "stream",
     "text": [
      "abraham_lt graham_ft\n"
     ]
    },
    {
     "name": "stdout",
     "output_type": "stream",
     "text": [
      " 0\n"
     ]
    },
    {
     "name": "stdout",
     "output_type": "stream",
     "text": [
      "ananthramvasudev ananthramvasudevangelina\n"
     ]
    },
    {
     "name": "stdout",
     "output_type": "stream",
     "text": [
      " 1\n"
     ]
    },
    {
     "name": "stdout",
     "output_type": "stream",
     "text": [
      "aroraashok aroraashokk\n"
     ]
    },
    {
     "name": "stdout",
     "output_type": "stream",
     "text": [
      " 1\n"
     ]
    },
    {
     "name": "stdout",
     "output_type": "stream",
     "text": [
      "beercharlesrjrtr palermocharlesjsrtr\n"
     ]
    },
    {
     "name": "stdout",
     "output_type": "stream",
     "text": [
      " 0\n"
     ]
    },
    {
     "name": "stdout",
     "output_type": "stream",
     "text": [
      "lindabrein lindagbowe\n"
     ]
    },
    {
     "name": "stdout",
     "output_type": "stream",
     "text": [
      " 0\n"
     ]
    },
    {
     "name": "stdout",
     "output_type": "stream",
     "text": [
      "bissivantkimberlyj bisskimberlyivan\n"
     ]
    },
    {
     "name": "stdout",
     "output_type": "stream",
     "text": [
      " 1\n"
     ]
    },
    {
     "name": "stdout",
     "output_type": "stream",
     "text": [
      "bonocharlesenordstrombonojudy bonocharlesenordstrombonojudyg\n"
     ]
    },
    {
     "name": "stdout",
     "output_type": "stream",
     "text": [
      " 1\n"
     ]
    },
    {
     "name": "stdout",
     "output_type": "stream",
     "text": [
      "davidwoteyjrplc davidwotey\n"
     ]
    },
    {
     "name": "stdout",
     "output_type": "stream",
     "text": [
      " 1\n"
     ]
    },
    {
     "name": "stdout",
     "output_type": "stream",
     "text": [
      "davidwoteyjrplc davidwoteyjr\n"
     ]
    },
    {
     "name": "stdout",
     "output_type": "stream",
     "text": [
      " 1\n"
     ]
    },
    {
     "name": "stdout",
     "output_type": "stream",
     "text": [
      "davidwoteyjrplc set to davidwoteyjr\n",
      "registeredagentsinc nationalregisteredagentsinc\n"
     ]
    },
    {
     "name": "stdout",
     "output_type": "stream",
     "text": [
      " 0\n"
     ]
    },
    {
     "name": "stdout",
     "output_type": "stream",
     "text": [
      "carollaurabender_rtagreement carollaurabendertrustee\n"
     ]
    },
    {
     "name": "stdout",
     "output_type": "stream",
     "text": [
      " 1\n"
     ]
    },
    {
     "name": "stdout",
     "output_type": "stream",
     "text": [
      "carterjenniferd carterscottwjenniferd\n"
     ]
    },
    {
     "name": "stdout",
     "output_type": "stream",
     "text": [
      " 1\n"
     ]
    },
    {
     "name": "stdout",
     "output_type": "stream",
     "text": [
      "caseylewisc caseylewiscoleman\n"
     ]
    },
    {
     "name": "stdout",
     "output_type": "stream",
     "text": [
      " 1\n"
     ]
    },
    {
     "name": "stdout",
     "output_type": "stream",
     "text": [
      "collegeofwilliamandmaryrealestatefoundation williamandmaryrealestatefoundation\n"
     ]
    },
    {
     "name": "stdout",
     "output_type": "stream",
     "text": [
      " 1\n"
     ]
    },
    {
     "name": "stdout",
     "output_type": "stream",
     "text": [
      "dwyerjamesg dwyerjamesgtr\n"
     ]
    },
    {
     "name": "stdout",
     "output_type": "stream",
     "text": [
      " 1\n"
     ]
    },
    {
     "name": "stdout",
     "output_type": "stream",
     "text": [
      "ellisbrandonray ellisondonna\n"
     ]
    },
    {
     "name": "stdout",
     "output_type": "stream",
     "text": [
      " 0\n"
     ]
    },
    {
     "name": "stdout",
     "output_type": "stream",
     "text": [
      "johnmichaeljohnson johnsonmichaeljosephtr\n"
     ]
    },
    {
     "name": "stdout",
     "output_type": "stream",
     "text": [
      " 1\n"
     ]
    },
    {
     "name": "stdout",
     "output_type": "stream",
     "text": [
      "davidwoteyjrplc davidwoteyjr\n"
     ]
    },
    {
     "name": "stdout",
     "output_type": "stream",
     "text": [
      " 1\n"
     ]
    },
    {
     "name": "stdout",
     "output_type": "stream",
     "text": [
      "davidwoteyjrplc set to davidwoteyjr\n",
      "glazenercharleshmicous glazenermicous\n"
     ]
    },
    {
     "name": "stdout",
     "output_type": "stream",
     "text": [
      " 1\n"
     ]
    },
    {
     "name": "stdout",
     "output_type": "stream",
     "text": [
      "hinnant_ft hunt_ft\n"
     ]
    },
    {
     "name": "stdout",
     "output_type": "stream",
     "text": [
      " 0\n"
     ]
    },
    {
     "name": "stdout",
     "output_type": "stream",
     "text": [
      "jamesandre osunajamesandrew\n"
     ]
    },
    {
     "name": "stdout",
     "output_type": "stream",
     "text": [
      " 0\n"
     ]
    },
    {
     "name": "stdout",
     "output_type": "stream",
     "text": [
      "johnsonkaren johnsonthomasakarenh\n"
     ]
    },
    {
     "name": "stdout",
     "output_type": "stream",
     "text": [
      " 1\n"
     ]
    },
    {
     "name": "stdout",
     "output_type": "stream",
     "text": [
      "kalomirismichael kalomirismichaelv\n"
     ]
    },
    {
     "name": "stdout",
     "output_type": "stream",
     "text": [
      " 1\n"
     ]
    },
    {
     "name": "stdout",
     "output_type": "stream",
     "text": [
      "kanalsgroup kanalsgroupllc\n"
     ]
    },
    {
     "name": "stdout",
     "output_type": "stream",
     "text": [
      " 1\n"
     ]
    },
    {
     "name": "stdout",
     "output_type": "stream",
     "text": [
      "kanalsgrouplimitedliabilitycompany willswetlandslimitedliabilitycompany\n"
     ]
    },
    {
     "name": "stdout",
     "output_type": "stream",
     "text": [
      " 0\n"
     ]
    },
    {
     "name": "stdout",
     "output_type": "stream",
     "text": [
      "klusosthenesyaotr klusosthenesyaotrustee\n"
     ]
    },
    {
     "name": "stdout",
     "output_type": "stream",
     "text": [
      " 1\n"
     ]
    },
    {
     "name": "stdout",
     "output_type": "stream",
     "text": [
      "kocevgorang kocevgoranjulia\n"
     ]
    },
    {
     "name": "stdout",
     "output_type": "stream",
     "text": [
      " 1\n"
     ]
    },
    {
     "name": "stdout",
     "output_type": "stream",
     "text": [
      "lamdavid lamdavidkintr\n"
     ]
    },
    {
     "name": "stdout",
     "output_type": "stream",
     "text": [
      " 1\n"
     ]
    },
    {
     "name": "stdout",
     "output_type": "stream",
     "text": [
      "lozajosecolomaandrea lozajosecolomaandreac\n"
     ]
    },
    {
     "name": "stdout",
     "output_type": "stream",
     "text": [
      " 1\n"
     ]
    },
    {
     "name": "stdout",
     "output_type": "stream",
     "text": [
      "masontaylormmasonpamelah masontaylormontgomerypamelah\n"
     ]
    },
    {
     "name": "stdout",
     "output_type": "stream",
     "text": [
      " 1\n"
     ]
    },
    {
     "name": "stdout",
     "output_type": "stream",
     "text": [
      "paretsgregsbrendaltrustees paretsgregsparetsbrendal\n"
     ]
    },
    {
     "name": "stdout",
     "output_type": "stream",
     "text": [
      " 1\n"
     ]
    },
    {
     "name": "stdout",
     "output_type": "stream",
     "text": [
      "quarterpathassociates quarterpathassociateslp\n"
     ]
    },
    {
     "name": "stdout",
     "output_type": "stream",
     "text": [
      " 1\n"
     ]
    },
    {
     "name": "stdout",
     "output_type": "stream",
     "text": [
      "quarterpathassociates set to quarterpathassociateslp\n",
      "williamrbland williamskyleandrew\n"
     ]
    },
    {
     "name": "stdout",
     "output_type": "stream",
     "text": [
      " 0\n"
     ]
    },
    {
     "name": "stdout",
     "output_type": "stream",
     "text": [
      "robertarnoldbraxtonhazelpittmanbraxtonrevocable_lt robertarnoldbraxtonhazelpittmanbraxtonrevocable_ltbraxtongrego\n"
     ]
    },
    {
     "name": "stdout",
     "output_type": "stream",
     "text": [
      " 1\n"
     ]
    },
    {
     "name": "stdout",
     "output_type": "stream",
     "text": [
      "shellygarylcarlsonelainem shellygarylcarlsonelainemary\n"
     ]
    },
    {
     "name": "stdout",
     "output_type": "stream",
     "text": [
      " 1\n"
     ]
    },
    {
     "name": "stdout",
     "output_type": "stream",
     "text": [
      "wrightbarry wrightmarke\n"
     ]
    },
    {
     "name": "stdout",
     "output_type": "stream",
     "text": [
      " 1\n"
     ]
    },
    {
     "name": "stdout",
     "output_type": "stream",
     "text": [
      "wrightmarkedward wrightmarkepamelah\n"
     ]
    },
    {
     "name": "stdout",
     "output_type": "stream",
     "text": [
      " 1\n"
     ]
    },
    {
     "name": "stdout",
     "output_type": "stream",
     "text": [
      "wrightmarkedward set to wrightmarkepamelah\n"
     ]
    }
   ],
   "source": [
    "# Set similar names to same name if they should be\n",
    "clean_merged = same_name_merge(all_merged, 'ind_name', 'ind_name_display', 0.7)"
   ]
  },
  {
   "cell_type": "code",
   "execution_count": 14,
   "id": "7056ebfc-f4d5-4d2d-b14d-111d613a49f8",
   "metadata": {},
   "outputs": [],
   "source": [
    "# # See who owns the most units \n",
    "# clean_merged.groupby(['ind_name'], as_index=False)['rental_units'].sum().sort_values('rental_units', ascending=False).head(40)"
   ]
  },
  {
   "cell_type": "code",
   "execution_count": null,
   "id": "05f7f973-7328-46d2-ad60-a48b1328c3bb",
   "metadata": {},
   "outputs": [],
   "source": [
    "# Save to csv \n",
    "clean_merged.to_csv('src/data/data_cleaning/clean_merged.csv', index = False)"
   ]
  },
  {
   "cell_type": "code",
   "execution_count": null,
   "id": "da08c229-58af-463e-bb84-1aa5ad29d64f",
   "metadata": {},
   "outputs": [],
   "source": [
    "clean_merged = pd.read_csv('src/data/data_cleaning/clean_merged.csv', index_col=False)"
   ]
  },
  {
   "cell_type": "code",
   "execution_count": 17,
   "id": "f57b6411-43fe-4757-bfe7-6d1ad96779ea",
   "metadata": {},
   "outputs": [
    {
     "data": {
      "text/html": [
       "<div>\n",
       "<style scoped>\n",
       "    .dataframe tbody tr th:only-of-type {\n",
       "        vertical-align: middle;\n",
       "    }\n",
       "\n",
       "    .dataframe tbody tr th {\n",
       "        vertical-align: top;\n",
       "    }\n",
       "\n",
       "    .dataframe thead th {\n",
       "        text-align: right;\n",
       "    }\n",
       "</style>\n",
       "<table border=\"1\" class=\"dataframe\">\n",
       "  <thead>\n",
       "    <tr style=\"text-align: right;\">\n",
       "      <th></th>\n",
       "      <th>PID</th>\n",
       "      <th>owner_name</th>\n",
       "      <th>address</th>\n",
       "      <th>acres</th>\n",
       "      <th>total_value</th>\n",
       "      <th>usage</th>\n",
       "      <th>half_baths</th>\n",
       "      <th>full_baths</th>\n",
       "      <th>bedrooms</th>\n",
       "      <th>rental_units</th>\n",
       "      <th>image_path</th>\n",
       "      <th>owner_name_display</th>\n",
       "      <th>address_display</th>\n",
       "      <th>count</th>\n",
       "      <th>CID</th>\n",
       "      <th>ind_name</th>\n",
       "      <th>ind_name_display</th>\n",
       "      <th>company_address</th>\n",
       "    </tr>\n",
       "  </thead>\n",
       "  <tbody>\n",
       "    <tr>\n",
       "      <th>403</th>\n",
       "      <td>1062</td>\n",
       "      <td>goldenpondinc</td>\n",
       "      <td>101wytheave</td>\n",
       "      <td>0.18</td>\n",
       "      <td>373200</td>\n",
       "      <td>Single-Family (Rental)</td>\n",
       "      <td>0.0</td>\n",
       "      <td>3.0</td>\n",
       "      <td>4.0</td>\n",
       "      <td>1.0</td>\n",
       "      <td>data/property_data/image_data/1062.png</td>\n",
       "      <td>Golden Pond, Inc.</td>\n",
       "      <td>101 WYTHE AVE</td>\n",
       "      <td>1.0</td>\n",
       "      <td>7134893</td>\n",
       "      <td>douglasgpons</td>\n",
       "      <td>DOUGLAS G PONS</td>\n",
       "      <td>614 College Ter, Williamsburg, VA, 23185 - 353...</td>\n",
       "    </tr>\n",
       "    <tr>\n",
       "      <th>404</th>\n",
       "      <td>1062</td>\n",
       "      <td>goldenpondinc</td>\n",
       "      <td>101wytheave</td>\n",
       "      <td>0.18</td>\n",
       "      <td>373200</td>\n",
       "      <td>Single-Family (Rental)</td>\n",
       "      <td>0.0</td>\n",
       "      <td>3.0</td>\n",
       "      <td>4.0</td>\n",
       "      <td>1.0</td>\n",
       "      <td>data/property_data/image_data/1062.png</td>\n",
       "      <td>Golden Pond, Inc.</td>\n",
       "      <td>101 WYTHE AVE</td>\n",
       "      <td>1.0</td>\n",
       "      <td>07134893</td>\n",
       "      <td>douglasgpons</td>\n",
       "      <td>DOUGLAS G   PONS</td>\n",
       "      <td>614 College Ter, Williamsburg, VA, 23185 - 353...</td>\n",
       "    </tr>\n",
       "  </tbody>\n",
       "</table>\n",
       "</div>"
      ],
      "text/plain": [
       "      PID     owner_name      address  acres  total_value  \\\n",
       "403  1062  goldenpondinc  101wytheave   0.18       373200   \n",
       "404  1062  goldenpondinc  101wytheave   0.18       373200   \n",
       "\n",
       "                       usage  half_baths  full_baths  bedrooms  rental_units  \\\n",
       "403  Single-Family (Rental)          0.0         3.0       4.0           1.0   \n",
       "404  Single-Family (Rental)          0.0         3.0       4.0           1.0   \n",
       "\n",
       "                                 image_path owner_name_display  \\\n",
       "403  data/property_data/image_data/1062.png  Golden Pond, Inc.   \n",
       "404  data/property_data/image_data/1062.png  Golden Pond, Inc.   \n",
       "\n",
       "    address_display  count       CID      ind_name   ind_name_display  \\\n",
       "403  101 WYTHE AVE     1.0   7134893  douglasgpons     DOUGLAS G PONS   \n",
       "404  101 WYTHE AVE     1.0  07134893  douglasgpons  DOUGLAS G   PONS    \n",
       "\n",
       "                                       company_address  \n",
       "403  614 College Ter, Williamsburg, VA, 23185 - 353...  \n",
       "404  614 College Ter, Williamsburg, VA, 23185 - 353...  "
      ]
     },
     "execution_count": 17,
     "metadata": {},
     "output_type": "execute_result"
    }
   ],
   "source": [
    "clean_merged[clean_merged['ind_name'].str.contains('pons')]"
   ]
  },
  {
   "cell_type": "code",
   "execution_count": 24,
   "id": "d47eeb9f-05c9-4a85-a3d1-dd645b2c2941",
   "metadata": {},
   "outputs": [
    {
     "data": {
      "text/html": [
       "<div>\n",
       "<style scoped>\n",
       "    .dataframe tbody tr th:only-of-type {\n",
       "        vertical-align: middle;\n",
       "    }\n",
       "\n",
       "    .dataframe tbody tr th {\n",
       "        vertical-align: top;\n",
       "    }\n",
       "\n",
       "    .dataframe thead th {\n",
       "        text-align: right;\n",
       "    }\n",
       "</style>\n",
       "<table border=\"1\" class=\"dataframe\">\n",
       "  <thead>\n",
       "    <tr style=\"text-align: right;\">\n",
       "      <th></th>\n",
       "      <th>company_name</th>\n",
       "      <th>company_name_display</th>\n",
       "      <th>ind_name</th>\n",
       "      <th>ind_name_display</th>\n",
       "      <th>company_address</th>\n",
       "    </tr>\n",
       "  </thead>\n",
       "  <tbody>\n",
       "    <tr>\n",
       "      <th>0</th>\n",
       "      <td>prometheusinvestmentsinc</td>\n",
       "      <td>PROMETHEUS INVESTMENTS INC</td>\n",
       "      <td>demetriosflorakis</td>\n",
       "      <td>DEMETRIOS  FLORAKIS</td>\n",
       "      <td>1220 RICHMOND RD, WILLIAMSBURG, VA, 23185 - 00...</td>\n",
       "    </tr>\n",
       "    <tr>\n",
       "      <th>1</th>\n",
       "      <td>cs1031sterlingmanorapartmentsdst</td>\n",
       "      <td>CS1031 Sterling Manor Apartments, DST</td>\n",
       "      <td>cs1031sterlingmanorapartmentsdst</td>\n",
       "      <td>CS1031 Sterling Manor Apartments, DST</td>\n",
       "      <td></td>\n",
       "    </tr>\n",
       "    <tr>\n",
       "      <th>2</th>\n",
       "      <td>dandylandllc</td>\n",
       "      <td>Dandy Land LLC</td>\n",
       "      <td>bennettlstein</td>\n",
       "      <td>Bennett L Stein</td>\n",
       "      <td>632 Hampton Hwy, Yorktown, VA, 23693 - 4100, USA</td>\n",
       "    </tr>\n",
       "    <tr>\n",
       "      <th>3</th>\n",
       "      <td>loneginc</td>\n",
       "      <td>LONE-G INC</td>\n",
       "      <td>gregoryhgranger</td>\n",
       "      <td>GREGORY H   GRANGER</td>\n",
       "      <td>1005 RICHMOND ROAD, WILLIAMSBURG, VA, 23185 - ...</td>\n",
       "    </tr>\n",
       "    <tr>\n",
       "      <th>4</th>\n",
       "      <td>kabra2llc</td>\n",
       "      <td>KABRA-2 LLC</td>\n",
       "      <td>gregoryrdavis</td>\n",
       "      <td>GREGORY R DAVIS</td>\n",
       "      <td>3051 HERITAGE LANDING RD, WILLIAMSBURG, VA, 23...</td>\n",
       "    </tr>\n",
       "    <tr>\n",
       "      <th>...</th>\n",
       "      <td>...</td>\n",
       "      <td>...</td>\n",
       "      <td>...</td>\n",
       "      <td>...</td>\n",
       "      <td>...</td>\n",
       "    </tr>\n",
       "    <tr>\n",
       "      <th>899</th>\n",
       "      <td>goldenpondincspalonesamuels</td>\n",
       "      <td>Golden Pond, Inc &amp; Spalone, Samuel S</td>\n",
       "      <td>goldenpondincspalonesamuels</td>\n",
       "      <td>Golden Pond, Inc &amp; Spalone, Samuel S</td>\n",
       "      <td></td>\n",
       "    </tr>\n",
       "    <tr>\n",
       "      <th>900</th>\n",
       "      <td>gorenfloseanwkimberlyb</td>\n",
       "      <td>Gorenflo, Sean W &amp; Kimberly B</td>\n",
       "      <td>gorenfloseanwkimberlyb</td>\n",
       "      <td>Gorenflo, Sean W &amp; Kimberly B</td>\n",
       "      <td></td>\n",
       "    </tr>\n",
       "    <tr>\n",
       "      <th>901</th>\n",
       "      <td>goughwilliamhjr</td>\n",
       "      <td>GOUGH, WILLIAM H JR</td>\n",
       "      <td>goughwilliamhjr</td>\n",
       "      <td>GOUGH, WILLIAM H JR</td>\n",
       "      <td></td>\n",
       "    </tr>\n",
       "    <tr>\n",
       "      <th>902</th>\n",
       "      <td>grahamfamilytrust</td>\n",
       "      <td>Graham Family Trust</td>\n",
       "      <td>graham_ft</td>\n",
       "      <td>Graham Family Trust</td>\n",
       "      <td></td>\n",
       "    </tr>\n",
       "    <tr>\n",
       "      <th>903</th>\n",
       "      <td>gilesmrobertsonjrrevocablelivingtrust</td>\n",
       "      <td>GILES M ROBERTSON JR REVOCABLE LIVING TRUST</td>\n",
       "      <td>gilesmrobertsonjrrevocable_lt</td>\n",
       "      <td>GILES M ROBERTSON JR REVOCABLE LIVING TRUST</td>\n",
       "      <td></td>\n",
       "    </tr>\n",
       "  </tbody>\n",
       "</table>\n",
       "<p>904 rows × 5 columns</p>\n",
       "</div>"
      ],
      "text/plain": [
       "                              company_name  \\\n",
       "0                 prometheusinvestmentsinc   \n",
       "1         cs1031sterlingmanorapartmentsdst   \n",
       "2                             dandylandllc   \n",
       "3                                 loneginc   \n",
       "4                                kabra2llc   \n",
       "..                                     ...   \n",
       "899            goldenpondincspalonesamuels   \n",
       "900                 gorenfloseanwkimberlyb   \n",
       "901                        goughwilliamhjr   \n",
       "902                      grahamfamilytrust   \n",
       "903  gilesmrobertsonjrrevocablelivingtrust   \n",
       "\n",
       "                            company_name_display  \\\n",
       "0                     PROMETHEUS INVESTMENTS INC   \n",
       "1          CS1031 Sterling Manor Apartments, DST   \n",
       "2                                 Dandy Land LLC   \n",
       "3                                     LONE-G INC   \n",
       "4                                    KABRA-2 LLC   \n",
       "..                                           ...   \n",
       "899         Golden Pond, Inc & Spalone, Samuel S   \n",
       "900                Gorenflo, Sean W & Kimberly B   \n",
       "901                          GOUGH, WILLIAM H JR   \n",
       "902                          Graham Family Trust   \n",
       "903  GILES M ROBERTSON JR REVOCABLE LIVING TRUST   \n",
       "\n",
       "                             ind_name  \\\n",
       "0                   demetriosflorakis   \n",
       "1    cs1031sterlingmanorapartmentsdst   \n",
       "2                       bennettlstein   \n",
       "3                     gregoryhgranger   \n",
       "4                       gregoryrdavis   \n",
       "..                                ...   \n",
       "899       goldenpondincspalonesamuels   \n",
       "900            gorenfloseanwkimberlyb   \n",
       "901                   goughwilliamhjr   \n",
       "902                         graham_ft   \n",
       "903     gilesmrobertsonjrrevocable_lt   \n",
       "\n",
       "                                ind_name_display  \\\n",
       "0                           DEMETRIOS  FLORAKIS    \n",
       "1          CS1031 Sterling Manor Apartments, DST   \n",
       "2                                Bennett L Stein   \n",
       "3                           GREGORY H   GRANGER    \n",
       "4                                GREGORY R DAVIS   \n",
       "..                                           ...   \n",
       "899         Golden Pond, Inc & Spalone, Samuel S   \n",
       "900                Gorenflo, Sean W & Kimberly B   \n",
       "901                          GOUGH, WILLIAM H JR   \n",
       "902                          Graham Family Trust   \n",
       "903  GILES M ROBERTSON JR REVOCABLE LIVING TRUST   \n",
       "\n",
       "                                       company_address  \n",
       "0    1220 RICHMOND RD, WILLIAMSBURG, VA, 23185 - 00...  \n",
       "1                                                       \n",
       "2     632 Hampton Hwy, Yorktown, VA, 23693 - 4100, USA  \n",
       "3    1005 RICHMOND ROAD, WILLIAMSBURG, VA, 23185 - ...  \n",
       "4    3051 HERITAGE LANDING RD, WILLIAMSBURG, VA, 23...  \n",
       "..                                                 ...  \n",
       "899                                                     \n",
       "900                                                     \n",
       "901                                                     \n",
       "902                                                     \n",
       "903                                                     \n",
       "\n",
       "[904 rows x 5 columns]"
      ]
     },
     "execution_count": 24,
     "metadata": {},
     "output_type": "execute_result"
    }
   ],
   "source": [
    "tOwner"
   ]
  },
  {
   "cell_type": "code",
   "execution_count": null,
   "id": "dc410486-9537-48ea-b129-4992bdef4bef",
   "metadata": {},
   "outputs": [],
   "source": [
    "tOwner = pd.DataFrame(clean_merged[['owner_name', 'owner_name_display', 'ind_name', 'ind_name_display', 'company_address']].value_counts(dropna=False)).reset_index().drop(columns='count')\n",
    "tOwner.columns = ['company_name', 'company_name_display', 'ind_name', 'ind_name_display', 'company_address']\n",
    "tOwner.loc[tOwner['ind_name_display'].isna(), 'ind_name_display'] = tOwner.loc[tOwner['ind_name_display'].isna(), 'company_name_display']\n",
    "tOwner.loc[tOwner['company_address'].isna(), 'company_address'] = ''\n",
    "tOwner.to_csv('src/data/tOwner.csv', index=False)"
   ]
  },
  {
   "cell_type": "code",
   "execution_count": null,
   "id": "146d9772-f68a-4bfa-a1dc-f8c4a1a7bc70",
   "metadata": {},
   "outputs": [],
   "source": [
    "tProperty = clean_merged[['PID', 'owner_name', 'address', 'acres', 'total_value', 'usage',\n",
    "                           'half_baths', 'full_baths', 'bedrooms', 'rental_units', 'image_path', 'address_display']]\n",
    "tProperty.columns = ['pid', 'company_name', 'address', 'acres', 'total_value', 'usage',\n",
    "       'half_baths', 'full_baths', 'bedrooms', 'rental_units', 'image_path', 'address_display']\n",
    "# Drop duplicate addresses, not sure how they get in there, maybe listed mulitple times in original data\n",
    "tProperty = tProperty.drop_duplicates()\n",
    "\n",
    "# Two PIDs contain more than one address. For these two I just keep the row with the most rental_units\n",
    "tProperty = tProperty.loc[tProperty.groupby('address')['rental_units'].idxmax()]\n",
    "tProperty.to_csv('src/data/tProperty.csv', index=False)"
   ]
  },
  {
   "cell_type": "code",
   "execution_count": null,
   "id": "8816813e-f757-4654-970c-7d64263789a8",
   "metadata": {},
   "outputs": [],
   "source": []
  }
 ],
 "metadata": {
  "kernelspec": {
   "display_name": "Python 3 (ipykernel)",
   "language": "python",
   "name": "python3"
  },
  "language_info": {
   "codemirror_mode": {
    "name": "ipython",
    "version": 3
   },
   "file_extension": ".py",
   "mimetype": "text/x-python",
   "name": "python",
   "nbconvert_exporter": "python",
   "pygments_lexer": "ipython3",
   "version": "3.12.9"
  }
 },
 "nbformat": 4,
 "nbformat_minor": 5
}
