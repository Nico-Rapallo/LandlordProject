{
 "cells": [
  {
   "cell_type": "code",
   "execution_count": null,
   "id": "b66762b6-7e20-4625-8dff-62aab1a30bdc",
   "metadata": {},
   "outputs": [],
   "source": [
    "### WARNING ###\n",
    "## This notebook does not run in the same virtual enviornment\n",
    "## This notenook will not run on mac \n",
    "\n",
    "# I attempted many pdf image extraction methods, and the only that would work with this data is Spire.\n",
    "# Spire does not run on mac so I used web based jupyter notebook.\n",
    "# Spire also would not let me read from web, so each pdf needed to be downloaded, runtime for me was ~20-30 minutes."
   ]
  },
  {
   "cell_type": "code",
   "execution_count": null,
   "id": "04619623",
   "metadata": {},
   "outputs": [],
   "source": [
    "print(\n",
    "\"\"\"\n",
    "### WARNING ###\n",
    "## This notebook does not run in the same virtual enviornment\n",
    "## This notenook will not run on mac \n",
    "\n",
    "# I attempted many pdf image extraction methods, and the only that would work with this data is Spire.\n",
    "# Spire does not run on mac so I used web based jupyter notebook.\n",
    "# I could not figure out how to make Spire also let me read pdf from web, so each pdf needed to be downloaded, runtime for me was ~10-30 minutes.\n",
    "      \n",
    "\n",
    "# PDF Image extraction directly implemented from Alexander Stock in Medium Article \"Extract Images from PDF Documents in Python\" \n",
    "# https://medium.com/@alexaae9/python-how-to-extract-images-from-pdf-documents-9492a767a613\n",
    "\"\"\"\n",
    ")"
   ]
  },
  {
   "cell_type": "code",
   "execution_count": 34,
   "id": "d3b64a57-d39a-40a4-9cdf-bc5585a20195",
   "metadata": {},
   "outputs": [],
   "source": [
    "# !pip install pypdf\n",
    "# !pip install Spire.Pdf"
   ]
  },
  {
   "cell_type": "code",
   "execution_count": 35,
   "id": "16feb691-b89a-4bff-98fd-4b0aed4b7fdd",
   "metadata": {},
   "outputs": [],
   "source": [
    "import pandas as pd\n",
    "import numpy as np\n",
    "import openpyxl\n",
    "import matplotlib.pyplot as plt\n",
    "import re\n",
    "from pdf_scraper import run_scraper, delete_images\n",
    "from tqdm import tqdm\n",
    "import zipfile\n",
    "import os"
   ]
  },
  {
   "cell_type": "code",
   "execution_count": null,
   "id": "4c1ca962-4a76-4b1a-bf55-49cdb135cee3",
   "metadata": {},
   "outputs": [],
   "source": [
    "# Read Data from Excel Spreadsheet\n",
    "parcel_data = pd.read_excel('src/data/property_data/FY2026 Assessment Report (Parcel Usage)_1.xlsx')\n",
    "# Find breaks in spreadsheet between \n",
    "break_points = parcel_data[parcel_data[parcel_data.columns[0]]==parcel_data[parcel_data.columns[0]].unique()[1]].index\n",
    "# Loop through break points to get data\n",
    "complete_df = pd.DataFrame()\n",
    "for i in range(len(break_points)-1):\n",
    "    df = parcel_data.loc[break_points[i]:break_points[i+1]-2]\n",
    "    df_updated = pd.DataFrame(data=df.loc[break_points[i]+2:break_points[i+1]-2])\n",
    "    df_updated.columns = df.loc[break_points[i]+1]\n",
    "    df_updated[df.iloc[0, 0]] = [df.iloc[0,2]]*((break_points[i+1]-3)-break_points[i])\n",
    "    complete_df = pd.concat([complete_df, df_updated])\n",
    "\n",
    "## Re-label collumns and drop unnessesary ones\n",
    "complete_df.columns = ['PID', 'acc_num', 'assess_dist','zoning', \n",
    "                      'owner_name', 'None', 'address', 'acres', 'business',\n",
    "                      'SC_code', 'tax_land_val', 'tax_imp_val',\n",
    "                      'tax_total_val', 'ex_land_val', 'ex_imp_val',\n",
    "                      'ex_total_val', 'total_land_val', 'total_imp_val',\n",
    "                      'total_value', 'usage']\n",
    "complete_df = complete_df.drop(columns = ['acc_num', 'assess_dist', 'zoning', 'None', 'business', 'SC_code', \n",
    "                                          'tax_land_val', 'tax_imp_val', 'tax_total_val', 'ex_land_val',\n",
    "                                          'ex_imp_val',\t'ex_total_val',\t'total_land_val', 'total_imp_val']).reset_index(drop=True)"
   ]
  },
  {
   "cell_type": "code",
   "execution_count": 37,
   "id": "b879ef52-ecda-452d-9bc3-cd0463451bdf",
   "metadata": {},
   "outputs": [],
   "source": [
    "## Get just Rentals\n",
    "rental_df = complete_df[\n",
    "complete_df['usage'].isin(['Condo (Residential) Rental', \n",
    "                           'Duplex (Town House) (Rental)', \n",
    "                           'Single-Family (Rental) ', \n",
    "                           'Single-Family (Rental) 4 Person', \n",
    "                           'Town House (Rental)', 'Apartment', \n",
    "                           'Apartment (High Rise)', 'Mixed Retail (w/Residential)',\n",
    "                           'Multi-Family', 'Multi-Family (Condo)'\n",
    "                          ])\n",
    "]"
   ]
  },
  {
   "cell_type": "code",
   "execution_count": null,
   "id": "8c691f90-1055-477d-a75d-7fb6249b2ff5",
   "metadata": {},
   "outputs": [
    {
     "name": "stderr",
     "output_type": "stream",
     "text": [
      "Rotated text discovered. Output will be incomplete.\n",
      "Rotated text discovered. Output will be incomplete.\n",
      "100%|██████████| 1120/1120 [13:13<00:00,  1.41it/s]\n"
     ]
    }
   ],
   "source": [
    "## Get Beds, Baths, Units, and Image for all rentals\n",
    "## Warning: This cell will run for >10 minutes\n",
    "for i in tqdm(rental_df.index, mininterval=1):\n",
    "    # Run scraper for PID\n",
    "    details = run_scraper(rental_df.loc[i, 'PID'])\n",
    "    # Add Details to rental_df (image is saved to image folder, its path is added to the db)\n",
    "    rental_df.loc[i, ['half_baths', 'full_baths', 'bedrooms', 'rental_units', 'image_path']] = details.values()\n",
    "# Save CSV\n",
    "rental_df.to_csv('src/data/data_cleaning/compiled_df.csv', index=False)"
   ]
  },
  {
   "cell_type": "code",
   "execution_count": null,
   "id": "747bd5f3-87cf-4b98-a610-d2460ddf9f82",
   "metadata": {},
   "outputs": [
    {
     "name": "stdout",
     "output_type": "stream",
     "text": [
      "Created ZIP archive: rental_images.zip\n"
     ]
    }
   ],
   "source": [
    "def create_png_zip(input_folder: str, output_zip: str, compress: bool = True):\n",
    "    '''\n",
    "    Function to ZIP all images to easily move them from jupyter to local device.\n",
    "    Takes input address string, output name string, compress boolean\n",
    "    Returns None.\n",
    "    '''\n",
    "    mode = zipfile.ZIP_DEFLATED if compress else zipfile.ZIP_STORED\n",
    "    with zipfile.ZipFile(output_zip, 'w', compression=mode) as zf:\n",
    "        for filename in os.listdir(input_folder):\n",
    "            if filename.lower().endswith('.png'):\n",
    "                file_path = os.path.join(input_folder, filename)\n",
    "                try:\n",
    "                    zf.write(file_path, arcname=filename)\n",
    "                    os.remove(file_path)\n",
    "                except Exception as e:\n",
    "                    print(f\"Error processing {filename}: {e}\")\n",
    "    print(f\"Created ZIP archive: {output_zip}\")\n",
    "    return\n",
    "input_folder = 'src/data/property_data/image_data/'\n",
    "output_zip = 'src/data/proprty_data/rental_images.zip'\n",
    "create_png_zip(input_folder, output_zip, compress=True)"
   ]
  },
  {
   "cell_type": "code",
   "execution_count": null,
   "id": "cae310c7-462b-43d1-9ab8-3d2afac1843c",
   "metadata": {},
   "outputs": [],
   "source": [
    "rental_df = pd.read_csv('src/data/data_cleaning/compiled_df.csv', index_col=False)"
   ]
  },
  {
   "cell_type": "code",
   "execution_count": null,
   "id": "eb605bf4-c1e9-45da-8d23-562778983163",
   "metadata": {},
   "outputs": [],
   "source": []
  }
 ],
 "metadata": {
  "kernelspec": {
   "display_name": "Python 3 (ipykernel)",
   "language": "python",
   "name": "python3"
  },
  "language_info": {
   "codemirror_mode": {
    "name": "ipython",
    "version": 3
   },
   "file_extension": ".py",
   "mimetype": "text/x-python",
   "name": "python",
   "nbconvert_exporter": "python",
   "pygments_lexer": "ipython3",
   "version": "3.12.9"
  }
 },
 "nbformat": 4,
 "nbformat_minor": 5
}
