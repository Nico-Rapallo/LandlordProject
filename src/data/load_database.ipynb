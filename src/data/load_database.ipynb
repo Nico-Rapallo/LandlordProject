{
 "cells": [
  {
   "cell_type": "code",
   "execution_count": 240,
   "id": "6d575ef3-8f3e-414f-b337-b93b60e0344c",
   "metadata": {},
   "outputs": [],
   "source": [
    "import Landlord\n",
    "import pandas as pd\n",
    "import numpy as np\n",
    "import sqlite3\n",
    "sqlite3.register_adapter(np.int64, lambda x: int(x))\n",
    "sqlite3.register_adapter(np.int32, lambda x: int(x))"
   ]
  },
  {
   "cell_type": "code",
   "execution_count": 241,
   "id": "5501f32b-973e-4f36-a83c-70eddbb2364d",
   "metadata": {},
   "outputs": [],
   "source": [
    "from importlib import reload\n",
    "reload(Landlord)\n",
    "db = Landlord.Landlord_DB()"
   ]
  },
  {
   "cell_type": "code",
   "execution_count": 242,
   "id": "81d94ba5-be95-497a-a178-ab5454435f79",
   "metadata": {},
   "outputs": [],
   "source": [
    "db.load_owner_file('tOwner.csv')\n",
    "db.load_property_file('tProperty.csv')\n",
    "db.load_response_file('tResponse.csv')"
   ]
  }
 ],
 "metadata": {
  "kernelspec": {
   "display_name": "Python 3 (ipykernel)",
   "language": "python",
   "name": "python3"
  },
  "language_info": {
   "codemirror_mode": {
    "name": "ipython",
    "version": 3
   },
   "file_extension": ".py",
   "mimetype": "text/x-python",
   "name": "python",
   "nbconvert_exporter": "python",
   "pygments_lexer": "ipython3",
   "version": "3.12.9"
  }
 },
 "nbformat": 4,
 "nbformat_minor": 5
}
